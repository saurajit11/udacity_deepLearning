{
 "cells": [
  {
   "cell_type": "markdown",
   "metadata": {
    "colab_type": "text",
    "id": "5hIbr52I7Z7U"
   },
   "source": [
    "Deep Learning\n",
    "=============\n",
    "\n",
    "Assignment 1\n",
    "------------\n",
    "\n",
    "The objective of this assignment is to learn about simple data curation practices, and familiarize you with some of the data we'll be reusing later.\n",
    "\n",
    "This notebook uses the [notMNIST](http://yaroslavvb.blogspot.com/2011/09/notmnist-dataset.html) dataset to be used with python experiments. This dataset is designed to look like the classic [MNIST](http://yann.lecun.com/exdb/mnist/) dataset, while looking a little more like real data: it's a harder task, and the data is a lot less 'clean' than MNIST."
   ]
  },
  {
   "cell_type": "code",
   "execution_count": 1,
   "metadata": {
    "cellView": "both",
    "colab": {
     "autoexec": {
      "startup": false,
      "wait_interval": 0
     }
    },
    "colab_type": "code",
    "collapsed": false,
    "id": "apJbCsBHl-2A"
   },
   "outputs": [
    {
     "name": "stderr",
     "output_type": "stream",
     "text": [
      "/Users/Sau/anaconda/lib/python2.7/site-packages/matplotlib/font_manager.py:273: UserWarning: Matplotlib is building the font cache using fc-list. This may take a moment.\n",
      "  warnings.warn('Matplotlib is building the font cache using fc-list. This may take a moment.')\n"
     ]
    }
   ],
   "source": [
    "# These are all the modules we'll be using later. Make sure you can import them\n",
    "# before proceeding further.\n",
    "%matplotlib inline\n",
    "import matplotlib.pyplot as plt\n",
    "from __future__ import print_function\n",
    "import numpy as np\n",
    "import os\n",
    "import sys\n",
    "import tarfile\n",
    "from IPython.display import display, Image\n",
    "from scipy import ndimage\n",
    "from sklearn.linear_model import LogisticRegression\n",
    "from six.moves.urllib.request import urlretrieve\n",
    "from six.moves import cPickle as pickle"
   ]
  },
  {
   "cell_type": "markdown",
   "metadata": {
    "colab_type": "text",
    "id": "jNWGtZaXn-5j"
   },
   "source": [
    "First, we'll download the dataset to our local machine. The data consists of characters rendered in a variety of fonts on a 28x28 image. The labels are limited to 'A' through 'J' (10 classes). The training set has about 500k and the testset 19000 labelled examples. Given these sizes, it should be possible to train models quickly on any machine."
   ]
  },
  {
   "cell_type": "code",
   "execution_count": 4,
   "metadata": {
    "cellView": "both",
    "colab": {
     "autoexec": {
      "startup": false,
      "wait_interval": 0
     },
     "output_extras": [
      {
       "item_id": 1
      }
     ]
    },
    "colab_type": "code",
    "collapsed": false,
    "executionInfo": {
     "elapsed": 186058,
     "status": "ok",
     "timestamp": 1444485672507,
     "user": {
      "color": "#1FA15D",
      "displayName": "Vincent Vanhoucke",
      "isAnonymous": false,
      "isMe": true,
      "permissionId": "05076109866853157986",
      "photoUrl": "//lh6.googleusercontent.com/-cCJa7dTDcgQ/AAAAAAAAAAI/AAAAAAAACgw/r2EZ_8oYer4/s50-c-k-no/photo.jpg",
      "sessionId": "2a0a5e044bb03b66",
      "userId": "102167687554210253930"
     },
     "user_tz": 420
    },
    "id": "EYRJ4ICW6-da",
    "outputId": "0d0f85df-155f-4a89-8e7e-ee32df36ec8d"
   },
   "outputs": [
    {
     "name": "stdout",
     "output_type": "stream",
     "text": [
      "Found and verified notMNIST_large.tar.gz\n",
      "Found and verified notMNIST_small.tar.gz\n"
     ]
    }
   ],
   "source": [
    "url = 'http://yaroslavvb.com/upload/notMNIST/'\n",
    "\n",
    "def maybe_download(filename, expected_bytes, force=False):\n",
    "  \"\"\"Download a file if not present, and make sure it's the right size.\"\"\"\n",
    "  if force or not os.path.exists(filename):\n",
    "    filename, _ = urlretrieve(url + filename, filename)\n",
    "  statinfo = os.stat(filename)\n",
    "  if statinfo.st_size == expected_bytes:\n",
    "    print('Found and verified', filename)\n",
    "  else:\n",
    "    raise Exception(\n",
    "      'Failed to verify' + filename + '. Can you get to it with a browser?')\n",
    "  return filename\n",
    "\n",
    "train_filename = maybe_download('notMNIST_large.tar.gz', 247336696)\n",
    "test_filename = maybe_download('notMNIST_small.tar.gz', 8458043)"
   ]
  },
  {
   "cell_type": "markdown",
   "metadata": {
    "colab_type": "text",
    "id": "cC3p0oEyF8QT"
   },
   "source": [
    "Extract the dataset from the compressed .tar.gz file.\n",
    "This should give you a set of directories, labelled A through J."
   ]
  },
  {
   "cell_type": "code",
   "execution_count": 5,
   "metadata": {
    "cellView": "both",
    "colab": {
     "autoexec": {
      "startup": false,
      "wait_interval": 0
     },
     "output_extras": [
      {
       "item_id": 1
      }
     ]
    },
    "colab_type": "code",
    "collapsed": false,
    "executionInfo": {
     "elapsed": 186055,
     "status": "ok",
     "timestamp": 1444485672525,
     "user": {
      "color": "#1FA15D",
      "displayName": "Vincent Vanhoucke",
      "isAnonymous": false,
      "isMe": true,
      "permissionId": "05076109866853157986",
      "photoUrl": "//lh6.googleusercontent.com/-cCJa7dTDcgQ/AAAAAAAAAAI/AAAAAAAACgw/r2EZ_8oYer4/s50-c-k-no/photo.jpg",
      "sessionId": "2a0a5e044bb03b66",
      "userId": "102167687554210253930"
     },
     "user_tz": 420
    },
    "id": "H8CBE-WZ8nmj",
    "outputId": "ef6c790c-2513-4b09-962e-27c79390c762"
   },
   "outputs": [
    {
     "name": "stdout",
     "output_type": "stream",
     "text": [
      "Extracting data for notMNIST_large. This may take a while. Please wait.\n",
      "['notMNIST_large/A', 'notMNIST_large/B', 'notMNIST_large/C', 'notMNIST_large/D', 'notMNIST_large/E', 'notMNIST_large/F', 'notMNIST_large/G', 'notMNIST_large/H', 'notMNIST_large/I', 'notMNIST_large/J']\n",
      "Extracting data for notMNIST_small. This may take a while. Please wait.\n",
      "['notMNIST_small/A', 'notMNIST_small/B', 'notMNIST_small/C', 'notMNIST_small/D', 'notMNIST_small/E', 'notMNIST_small/F', 'notMNIST_small/G', 'notMNIST_small/H', 'notMNIST_small/I', 'notMNIST_small/J']\n"
     ]
    }
   ],
   "source": [
    "num_classes = 10\n",
    "np.random.seed(133)\n",
    "\n",
    "def maybe_extract(filename, force=False):\n",
    "  root = os.path.splitext(os.path.splitext(filename)[0])[0]  # remove .tar.gz\n",
    "  if os.path.isdir(root) and not force:\n",
    "    # You may override by setting force=True.\n",
    "    print('%s already present - Skipping extraction of %s.' % (root, filename))\n",
    "  else:\n",
    "    print('Extracting data for %s. This may take a while. Please wait.' % root)\n",
    "    tar = tarfile.open(filename)\n",
    "    sys.stdout.flush()\n",
    "    tar.extractall()\n",
    "    tar.close()\n",
    "  data_folders = [\n",
    "    os.path.join(root, d) for d in sorted(os.listdir(root))\n",
    "    if os.path.isdir(os.path.join(root, d))]\n",
    "  if len(data_folders) != num_classes:\n",
    "    raise Exception(\n",
    "      'Expected %d folders, one per class. Found %d instead.' % (\n",
    "        num_classes, len(data_folders)))\n",
    "  print(data_folders)\n",
    "  return data_folders\n",
    "  \n",
    "train_folders = maybe_extract(train_filename)\n",
    "test_folders = maybe_extract(test_filename)"
   ]
  },
  {
   "cell_type": "markdown",
   "metadata": {
    "colab_type": "text",
    "id": "4riXK3IoHgx6"
   },
   "source": [
    "---\n",
    "Problem 1\n",
    "---------\n",
    "\n",
    "Let's take a peek at some of the data to make sure it looks sensible. Each exemplar should be an image of a character A through J rendered in a different font. Display a sample of the images that we just downloaded. Hint: you can use the package IPython.display.\n",
    "\n",
    "---"
   ]
  },
  {
   "cell_type": "code",
   "execution_count": 26,
   "metadata": {
    "collapsed": false
   },
   "outputs": [
    {
     "name": "stdout",
     "output_type": "stream",
     "text": [
      "notMNIST_large/A\n"
     ]
    },
    {
     "data": {
      "text/html": [
       "<img style='margin: 5px; float: left;' src='notMNIST_large/A/QmFyY29kaW5nLnR0Zg==.png' /><img style='margin: 5px; float: left;' src='notMNIST_large/A/WmFwZkNoYW5jZXJ5U3RkLUJvbGQub3Rm.png' /><img style='margin: 5px; float: left;' src='notMNIST_large/A/VXRvcGlhIFNlbWlib2xkIEl0YWxpYy5wZmI=.png' /><img style='margin: 5px; float: left;' src='notMNIST_large/A/UXVhcnRldC1Cb2xkLnR0Zg==.png' /><img style='margin: 5px; float: left;' src='notMNIST_large/A/Q1RNZXJjdXJpdXNTdGQtTWVkaXVtLm90Zg==.png' />"
      ],
      "text/plain": [
       "<IPython.core.display.HTML object>"
      ]
     },
     "metadata": {},
     "output_type": "display_data"
    },
    {
     "name": "stdout",
     "output_type": "stream",
     "text": [
      "notMNIST_large/B\n"
     ]
    },
    {
     "data": {
      "text/html": [
       "<img style='margin: 5px; float: left;' src='notMNIST_large/B/Q2F4dG9uRUYtQm9sZEl0YWxpYy5vdGY=.png' /><img style='margin: 5px; float: left;' src='notMNIST_large/B/RW5kem9uZUNvbmRlbnNlZC50dGY=.png' /><img style='margin: 5px; float: left;' src='notMNIST_large/B/RFRMUHJva3lvblNUTWVkaXVtIEl0YWxpYy5vdGY=.png' /><img style='margin: 5px; float: left;' src='notMNIST_large/B/U3VuZHJhRGlzcGxheUNhcHMudHRm.png' /><img style='margin: 5px; float: left;' src='notMNIST_large/B/RGVycmluZ2VyLVhsaWdodC5vdGY=.png' />"
      ],
      "text/plain": [
       "<IPython.core.display.HTML object>"
      ]
     },
     "metadata": {},
     "output_type": "display_data"
    },
    {
     "name": "stdout",
     "output_type": "stream",
     "text": [
      "notMNIST_large/C\n"
     ]
    },
    {
     "data": {
      "text/html": [
       "<img style='margin: 5px; float: left;' src='notMNIST_large/C/SWNsZWFyZ290aGljLUxpZ2h0Lm90Zg==.png' /><img style='margin: 5px; float: left;' src='notMNIST_large/C/RW5nbGlzY2hlU2NoVC50dGY=.png' /><img style='margin: 5px; float: left;' src='notMNIST_large/C/U21va2VIYXVzU2hhZG93LnR0Zg==.png' /><img style='margin: 5px; float: left;' src='notMNIST_large/C/TW9kdWxhUm91bmRTZXJpZlNtYWxsQ2FwcyBSZWd1bGFyLnR0Zg==.png' /><img style='margin: 5px; float: left;' src='notMNIST_large/C/U3VtbWVyJ3MgTm90ZWJvb2sudHRm.png' />"
      ],
      "text/plain": [
       "<IPython.core.display.HTML object>"
      ]
     },
     "metadata": {},
     "output_type": "display_data"
    },
    {
     "name": "stdout",
     "output_type": "stream",
     "text": [
      "notMNIST_large/D\n"
     ]
    },
    {
     "data": {
      "text/html": [
       "<img style='margin: 5px; float: left;' src='notMNIST_large/D/Q2FycmllciBCb2xkIE9ibGlxdWUudHRm.png' /><img style='margin: 5px; float: left;' src='notMNIST_large/D/T3JnYW4ub3Rm.png' /><img style='margin: 5px; float: left;' src='notMNIST_large/D/Qm9kb25pIEJFIEJvbGQgQ29uZGVuc2VkIEl0YWxpYy50dGY=.png' /><img style='margin: 5px; float: left;' src='notMNIST_large/D/TWFjaGluZUMtQm9sZC5vdGY=.png' /><img style='margin: 5px; float: left;' src='notMNIST_large/D/VGlyZXNpYXMgUENmb250LnR0Zg==.png' />"
      ],
      "text/plain": [
       "<IPython.core.display.HTML object>"
      ]
     },
     "metadata": {},
     "output_type": "display_data"
    },
    {
     "name": "stdout",
     "output_type": "stream",
     "text": [
      "notMNIST_large/E\n"
     ]
    },
    {
     "data": {
      "text/html": [
       "<img style='margin: 5px; float: left;' src='notMNIST_large/E/RmFnb05vLUJsYWNrSXRhbGljQ2Fwcy5vdGY=.png' /><img style='margin: 5px; float: left;' src='notMNIST_large/E/UmVhbGl0eS1IYXJkLm90Zg==.png' /><img style='margin: 5px; float: left;' src='notMNIST_large/E/RFMgVGlja2V0NDUudHRm.png' /><img style='margin: 5px; float: left;' src='notMNIST_large/E/QmFzc1NjcmlwdE9wdGkub3Rm.png' /><img style='margin: 5px; float: left;' src='notMNIST_large/E/Q290dG9ud29vZC1Ob3JtYWwudHRm.png' />"
      ],
      "text/plain": [
       "<IPython.core.display.HTML object>"
      ]
     },
     "metadata": {},
     "output_type": "display_data"
    },
    {
     "name": "stdout",
     "output_type": "stream",
     "text": [
      "notMNIST_large/F\n"
     ]
    },
    {
     "data": {
      "text/html": [
       "<img style='margin: 5px; float: left;' src='notMNIST_large/F/QnJ1Y2UgT2xkIFN0eWxlIEJULnR0Zg==.png' /><img style='margin: 5px; float: left;' src='notMNIST_large/F/TmlvYml1bSBCbGFjay50dGY=.png' /><img style='margin: 5px; float: left;' src='notMNIST_large/F/RWlkZXRpY05lb1NtYWxsY2Fwcy50dGY=.png' /><img style='margin: 5px; float: left;' src='notMNIST_large/F/Q29tcGxpYW50IENvbmZ1c2UgM3MgQlJLLnR0Zg==.png' /><img style='margin: 5px; float: left;' src='notMNIST_large/F/UGVuY2hhbnQgUmVndWxhci50dGY=.png' />"
      ],
      "text/plain": [
       "<IPython.core.display.HTML object>"
      ]
     },
     "metadata": {},
     "output_type": "display_data"
    },
    {
     "name": "stdout",
     "output_type": "stream",
     "text": [
      "notMNIST_large/G\n"
     ]
    },
    {
     "data": {
      "text/html": [
       "<img style='margin: 5px; float: left;' src='notMNIST_large/G/RW5nZWJyZWNodHJlIEl0YWxpYy50dGY=.png' /><img style='margin: 5px; float: left;' src='notMNIST_large/G/d21jaHJpc3RtYXMyLnR0Zg==.png' /><img style='margin: 5px; float: left;' src='notMNIST_large/G/RnJlZWhhbmQgNTkxIEJULnR0Zg==.png' /><img style='margin: 5px; float: left;' src='notMNIST_large/G/RWxsaW90dHNUeXBocG9pZE1UaHJETGlnaHQub3Rm.png' /><img style='margin: 5px; float: left;' src='notMNIST_large/G/Q2hpbmVNZW4udHRm.png' />"
      ],
      "text/plain": [
       "<IPython.core.display.HTML object>"
      ]
     },
     "metadata": {},
     "output_type": "display_data"
    },
    {
     "name": "stdout",
     "output_type": "stream",
     "text": [
      "notMNIST_large/H\n"
     ]
    },
    {
     "data": {
      "text/html": [
       "<img style='margin: 5px; float: left;' src='notMNIST_large/H/VW5pdGVkU2Fuc0V4dC1MaWdodC5vdGY=.png' /><img style='margin: 5px; float: left;' src='notMNIST_large/H/QWxhaW5hc0hhbmQgUmVndWxhci50dGY=.png' /><img style='margin: 5px; float: left;' src='notMNIST_large/H/Sm90dCA0MyBUaGluIE5vcm1hbC50dGY=.png' /><img style='margin: 5px; float: left;' src='notMNIST_large/H/VW5kZXJncm91bmQudHRm.png' /><img style='margin: 5px; float: left;' src='notMNIST_large/H/VHJlayBEUzkgSG9sbG93LnR0Zg==.png' />"
      ],
      "text/plain": [
       "<IPython.core.display.HTML object>"
      ]
     },
     "metadata": {},
     "output_type": "display_data"
    },
    {
     "name": "stdout",
     "output_type": "stream",
     "text": [
      "notMNIST_large/I\n"
     ]
    },
    {
     "data": {
      "text/html": [
       "<img style='margin: 5px; float: left;' src='notMNIST_large/I/R2xhbW91ci5vdGY=.png' /><img style='margin: 5px; float: left;' src='notMNIST_large/I/QWQgTGliLnBmYg==.png' /><img style='margin: 5px; float: left;' src='notMNIST_large/I/R291ZHktT2xkLVN0eWxlLU5vcm1hbC1JdGFsaWMudHRm.png' /><img style='margin: 5px; float: left;' src='notMNIST_large/I/RnJhbmtsaW4gUmVndWxhci50dGY=.png' /><img style='margin: 5px; float: left;' src='notMNIST_large/I/RGllIE5hc3R5LnR0Zg==.png' />"
      ],
      "text/plain": [
       "<IPython.core.display.HTML object>"
      ]
     },
     "metadata": {},
     "output_type": "display_data"
    },
    {
     "name": "stdout",
     "output_type": "stream",
     "text": [
      "notMNIST_large/J\n"
     ]
    },
    {
     "data": {
      "text/html": [
       "<img style='margin: 5px; float: left;' src='notMNIST_large/J/QnJva2VuIFN0aWNrLnR0Zg==.png' /><img style='margin: 5px; float: left;' src='notMNIST_large/J/RFRMRG9yaWFuVENhcHMtQm9sZC5vdGY=.png' /><img style='margin: 5px; float: left;' src='notMNIST_large/J/QmFzZU1vbm9OYXJyb3dUaGluLm90Zg==.png' /><img style='margin: 5px; float: left;' src='notMNIST_large/J/V2luZHNvciBMaWdodCBCVC50dGY=.png' /><img style='margin: 5px; float: left;' src='notMNIST_large/J/U3Bpa2UgQm9sZC50dGY=.png' />"
      ],
      "text/plain": [
       "<IPython.core.display.HTML object>"
      ]
     },
     "metadata": {},
     "output_type": "display_data"
    },
    {
     "name": "stdout",
     "output_type": "stream",
     "text": [
      "notMNIST_small/A\n"
     ]
    },
    {
     "data": {
      "text/html": [
       "<img style='margin: 5px; float: left;' src='notMNIST_small/A/Qmxpc3MgRXh0ZW5kZWQgTm9ybWFsLnR0Zg==.png' /><img style='margin: 5px; float: left;' src='notMNIST_small/A/QmVsbGFteUV4dHJhQm9sZC5vdGY=.png' /><img style='margin: 5px; float: left;' src='notMNIST_small/A/QW5hcmNoaXN0aWMudHRm.png' /><img style='margin: 5px; float: left;' src='notMNIST_small/A/QnVzb3JhbWFMaWdodC5vdGY=.png' /><img style='margin: 5px; float: left;' src='notMNIST_small/A/RGluZXIgRmF0dC50dGY=.png' />"
      ],
      "text/plain": [
       "<IPython.core.display.HTML object>"
      ]
     },
     "metadata": {},
     "output_type": "display_data"
    },
    {
     "name": "stdout",
     "output_type": "stream",
     "text": [
      "notMNIST_small/B\n"
     ]
    },
    {
     "data": {
      "text/html": [
       "<img style='margin: 5px; float: left;' src='notMNIST_small/B/Q2hlbHRlbmhhbUlUQ2J5QlQtQm9va0l0YWxpYy5vdGY=.png' /><img style='margin: 5px; float: left;' src='notMNIST_small/B/Q2hhcGFycmFsUHJvLUxpZ2h0SXRDYXB0Lm90Zg==.png' /><img style='margin: 5px; float: left;' src='notMNIST_small/B/Q2xlYXJnb3RoaWMtUmVndWxhckl0YS5vdGY=.png' /><img style='margin: 5px; float: left;' src='notMNIST_small/B/Q2hhbGV0Qm9vayBCb2xkIEl0YWxpYy50dGY=.png' /><img style='margin: 5px; float: left;' src='notMNIST_small/B/Rm9saW8gWEJkIEJUIEV4dHJhIEJvbGQudHRm.png' />"
      ],
      "text/plain": [
       "<IPython.core.display.HTML object>"
      ]
     },
     "metadata": {},
     "output_type": "display_data"
    },
    {
     "name": "stdout",
     "output_type": "stream",
     "text": [
      "notMNIST_small/C\n"
     ]
    },
    {
     "data": {
      "text/html": [
       "<img style='margin: 5px; float: left;' src='notMNIST_small/C/RGF2aWxsZSBDb25kZW5zZWQgU2xhbnRlZC50dGY=.png' /><img style='margin: 5px; float: left;' src='notMNIST_small/C/RHV0Y2g4MDFCVC1Cb2xkLm90Zg==.png' /><img style='margin: 5px; float: left;' src='notMNIST_small/C/R3Jhdml0eSBTdWNrcy50dGY=.png' /><img style='margin: 5px; float: left;' src='notMNIST_small/C/R3JpZGRlci1ORUcub3Rm.png' /><img style='margin: 5px; float: left;' src='notMNIST_small/C/RHluYW1vUnhjSXRhbGljSFhDLm90Zg==.png' />"
      ],
      "text/plain": [
       "<IPython.core.display.HTML object>"
      ]
     },
     "metadata": {},
     "output_type": "display_data"
    },
    {
     "name": "stdout",
     "output_type": "stream",
     "text": [
      "notMNIST_small/D\n"
     ]
    },
    {
     "data": {
      "text/html": [
       "<img style='margin: 5px; float: left;' src='notMNIST_small/D/QXZhbnRHYXJkZUlUQ1RUIERlbWlPYmxpcXVlLnR0Zg==.png' /><img style='margin: 5px; float: left;' src='notMNIST_small/D/Q29ycG9yYXRlIEEgRXhwZXJ0IExpZ2h0LnR0Zg==.png' /><img style='margin: 5px; float: left;' src='notMNIST_small/D/QmFkIE1vZm8udHRm.png' /><img style='margin: 5px; float: left;' src='notMNIST_small/D/Q3Jvc3NvdmVyIEJvbGRPYmxpcXVlLnR0Zg==.png' /><img style='margin: 5px; float: left;' src='notMNIST_small/D/QmFsdHJhR0Qub3Rm.png' />"
      ],
      "text/plain": [
       "<IPython.core.display.HTML object>"
      ]
     },
     "metadata": {},
     "output_type": "display_data"
    },
    {
     "name": "stdout",
     "output_type": "stream",
     "text": [
      "notMNIST_small/E\n"
     ]
    },
    {
     "data": {
      "text/html": [
       "<img style='margin: 5px; float: left;' src='notMNIST_small/E/Q2FtYnJpZGdlLUxpZ2h0Lm90Zg==.png' /><img style='margin: 5px; float: left;' src='notMNIST_small/E/RmVkZXJhdGlvbkNsYXNzaWMudHRm.png' /><img style='margin: 5px; float: left;' src='notMNIST_small/E/QW1hc2lzIE1UIEJvbGQudHRm.png' /><img style='margin: 5px; float: left;' src='notMNIST_small/E/RGFyayBIb3JzZSBTaGFkb3cudHRm.png' /><img style='margin: 5px; float: left;' src='notMNIST_small/E/RGVtb3NFRi1TZW1pQm9sZC5vdGY=.png' />"
      ],
      "text/plain": [
       "<IPython.core.display.HTML object>"
      ]
     },
     "metadata": {},
     "output_type": "display_data"
    },
    {
     "name": "stdout",
     "output_type": "stream",
     "text": [
      "notMNIST_small/F\n"
     ]
    },
    {
     "data": {
      "text/html": [
       "<img style='margin: 5px; float: left;' src='notMNIST_small/F/QnVzdGVyLUJvbGRDb25kZW5zZWQub3Rm.png' /><img style='margin: 5px; float: left;' src='notMNIST_small/F/Q2F4dG9uU3RkLUJvbGRJdGFsaWMub3Rm.png' /><img style='margin: 5px; float: left;' src='notMNIST_small/F/RHJlYW1zcGVhayBJdGFsaWMudHRm.png' /><img style='margin: 5px; float: left;' src='notMNIST_small/F/QmVsaXppb0JvbGQub3Rm.png' /><img style='margin: 5px; float: left;' src='notMNIST_small/F/Q29ycGlkQ2RMRi1Cb2xkSXRhbGljLm90Zg==.png' />"
      ],
      "text/plain": [
       "<IPython.core.display.HTML object>"
      ]
     },
     "metadata": {},
     "output_type": "display_data"
    },
    {
     "name": "stdout",
     "output_type": "stream",
     "text": [
      "notMNIST_small/G\n"
     ]
    },
    {
     "data": {
      "text/html": [
       "<img style='margin: 5px; float: left;' src='notMNIST_small/G/Q2xhcml0eSBHb3RoaWMgU0YudHRm.png' /><img style='margin: 5px; float: left;' src='notMNIST_small/G/Q29uY29yZGVFeHBlcnRCUS1NZWRpdW0ub3Rm.png' /><img style='margin: 5px; float: left;' src='notMNIST_small/G/Q2FyYm9uIEJsb2NrLnR0Zg==.png' /><img style='margin: 5px; float: left;' src='notMNIST_small/G/RXhwb3NlIFRoaW4gQ29uZGVuc2VkIEJvbGRJdGFsaWMudHRm.png' /><img style='margin: 5px; float: left;' src='notMNIST_small/G/Q3VzaGluZ0VGLUhlYXZ5SXRhbGljLm90Zg==.png' />"
      ],
      "text/plain": [
       "<IPython.core.display.HTML object>"
      ]
     },
     "metadata": {},
     "output_type": "display_data"
    },
    {
     "name": "stdout",
     "output_type": "stream",
     "text": [
      "notMNIST_small/H\n"
     ]
    },
    {
     "data": {
      "text/html": [
       "<img style='margin: 5px; float: left;' src='notMNIST_small/H/SGFuIFNvbG8gRXhwIFNoYWRvd0xhc2VyLnR0Zg==.png' /><img style='margin: 5px; float: left;' src='notMNIST_small/H/R2VvU2xiNzEyIFhCZCBCVCBFeHRyYSBCb2xkLnR0Zg==.png' /><img style='margin: 5px; float: left;' src='notMNIST_small/H/Q2VudHVyeTcyNSBCZENuIEJUIEJvbGQudHRm.png' /><img style='margin: 5px; float: left;' src='notMNIST_small/H/QW1lcmljYW4gUG9wIFBsYWluLnR0Zg==.png' /><img style='margin: 5px; float: left;' src='notMNIST_small/H/Q2FsdmVydE1ULm90Zg==.png' />"
      ],
      "text/plain": [
       "<IPython.core.display.HTML object>"
      ]
     },
     "metadata": {},
     "output_type": "display_data"
    },
    {
     "name": "stdout",
     "output_type": "stream",
     "text": [
      "notMNIST_small/I\n"
     ]
    },
    {
     "data": {
      "text/html": [
       "<img style='margin: 5px; float: left;' src='notMNIST_small/I/RkZGIFByb3RlZ2UgRXh0ZW5kZWQudHRm.png' /><img style='margin: 5px; float: left;' src='notMNIST_small/I/RGUgRnV0dXJhLnR0Zg==.png' /><img style='margin: 5px; float: left;' src='notMNIST_small/I/QmFsYW5jZS1MaWdodENhcHNJdGFsaWMub3Rm.png' /><img style='margin: 5px; float: left;' src='notMNIST_small/I/Q29uY29yZGVFeHBlcnRCUS1JdGFsaWNPc0Yub3Rm.png' /><img style='margin: 5px; float: left;' src='notMNIST_small/I/SVRDIFVzaGVyd29vZCBCbGFjayBJdGFsaWMucGZi.png' />"
      ],
      "text/plain": [
       "<IPython.core.display.HTML object>"
      ]
     },
     "metadata": {},
     "output_type": "display_data"
    },
    {
     "name": "stdout",
     "output_type": "stream",
     "text": [
      "notMNIST_small/J\n"
     ]
    },
    {
     "data": {
      "text/html": [
       "<img style='margin: 5px; float: left;' src='notMNIST_small/J/RmFycmFoc0hhbmQgUmVndWxhci50dGY=.png' /><img style='margin: 5px; float: left;' src='notMNIST_small/J/RGFudG8gTGl0ZSBCb2xkLnR0Zg==.png' /><img style='margin: 5px; float: left;' src='notMNIST_small/J/Q29ycG9yYXRlIEEgRXhwZXJ0IEl0YWxpYyBPc0YudHRm.png' /><img style='margin: 5px; float: left;' src='notMNIST_small/J/QWhhcm9uaSBCb2xkKDEpLnR0Zg==.png' /><img style='margin: 5px; float: left;' src='notMNIST_small/J/R2FyYW1vbmRJdGNULUxpZ2h0Q29uZGVuc2VkSXRhbGljLm90Zg==.png' />"
      ],
      "text/plain": [
       "<IPython.core.display.HTML object>"
      ]
     },
     "metadata": {},
     "output_type": "display_data"
    }
   ],
   "source": [
    "from IPython.display import Image, HTML, display\n",
    "from glob import glob\n",
    "import random\n",
    "\n",
    "def display_images(img_list):\n",
    "    img_html=''.join( [\"<img style='margin: 5px; float: left;' src='%s' />\" % str(s) \n",
    "                 for s in img_list ])\n",
    "    display(HTML(img_html))\n",
    "\n",
    "def display_sample(data_folders, num_samples=5):\n",
    "    for folder in data_folders:\n",
    "        img_files = glob(folder + '/*.png')\n",
    "        sample = random.sample(img_files, num_samples)\n",
    "        print(folder)\n",
    "        display_images(sample)\n",
    "        \n",
    "display_sample(train_folders)\n",
    "display_sample(test_folders)\n",
    "        \n",
    "    \n"
   ]
  },
  {
   "cell_type": "markdown",
   "metadata": {
    "colab_type": "text",
    "id": "PBdkjESPK8tw"
   },
   "source": [
    "Now let's load the data in a more manageable format. Since, depending on your computer setup you might not be able to fit it all in memory, we'll load each class into a separate dataset, store them on disk and curate them independently. Later we'll merge them into a single dataset of manageable size.\n",
    "\n",
    "We'll convert the entire dataset into a 3D array (image index, x, y) of floating point values, normalized to have approximately zero mean and standard deviation ~0.5 to make training easier down the road. \n",
    "\n",
    "A few images might not be readable, we'll just skip them."
   ]
  },
  {
   "cell_type": "code",
   "execution_count": 27,
   "metadata": {
    "cellView": "both",
    "colab": {
     "autoexec": {
      "startup": false,
      "wait_interval": 0
     },
     "output_extras": [
      {
       "item_id": 30
      }
     ]
    },
    "colab_type": "code",
    "collapsed": false,
    "executionInfo": {
     "elapsed": 399874,
     "status": "ok",
     "timestamp": 1444485886378,
     "user": {
      "color": "#1FA15D",
      "displayName": "Vincent Vanhoucke",
      "isAnonymous": false,
      "isMe": true,
      "permissionId": "05076109866853157986",
      "photoUrl": "//lh6.googleusercontent.com/-cCJa7dTDcgQ/AAAAAAAAAAI/AAAAAAAACgw/r2EZ_8oYer4/s50-c-k-no/photo.jpg",
      "sessionId": "2a0a5e044bb03b66",
      "userId": "102167687554210253930"
     },
     "user_tz": 420
    },
    "id": "h7q0XhG3MJdf",
    "outputId": "92c391bb-86ff-431d-9ada-315568a19e59"
   },
   "outputs": [
    {
     "name": "stdout",
     "output_type": "stream",
     "text": [
      "Pickling notMNIST_large/A.pickle.\n",
      "notMNIST_large/A\n",
      "Could not read: notMNIST_large/A/.DS_Store : cannot identify image file 'notMNIST_large/A/.DS_Store' - it's ok, skipping.\n",
      "Could not read: notMNIST_large/A/RnJlaWdodERpc3BCb29rSXRhbGljLnR0Zg==.png : cannot identify image file 'notMNIST_large/A/RnJlaWdodERpc3BCb29rSXRhbGljLnR0Zg==.png' - it's ok, skipping.\n",
      "Could not read: notMNIST_large/A/SG90IE11c3RhcmQgQlROIFBvc3Rlci50dGY=.png : cannot identify image file 'notMNIST_large/A/SG90IE11c3RhcmQgQlROIFBvc3Rlci50dGY=.png' - it's ok, skipping.\n",
      "Could not read: notMNIST_large/A/Um9tYW5hIEJvbGQucGZi.png : cannot identify image file 'notMNIST_large/A/Um9tYW5hIEJvbGQucGZi.png' - it's ok, skipping.\n",
      "Full dataset tensor: (52909, 28, 28)\n",
      "Mean: -0.12825\n",
      "Standard deviation: 0.443121\n",
      "Pickling notMNIST_large/B.pickle.\n",
      "notMNIST_large/B\n",
      "Could not read: notMNIST_large/B/TmlraXNFRi1TZW1pQm9sZEl0YWxpYy5vdGY=.png : cannot identify image file 'notMNIST_large/B/TmlraXNFRi1TZW1pQm9sZEl0YWxpYy5vdGY=.png' - it's ok, skipping.\n",
      "Full dataset tensor: (52911, 28, 28)\n",
      "Mean: -0.00756303\n",
      "Standard deviation: 0.454491\n",
      "Pickling notMNIST_large/C.pickle.\n",
      "notMNIST_large/C\n",
      "Full dataset tensor: (52912, 28, 28)\n",
      "Mean: -0.142258\n",
      "Standard deviation: 0.439806\n",
      "Pickling notMNIST_large/D.pickle.\n",
      "notMNIST_large/D\n",
      "Could not read: notMNIST_large/D/VHJhbnNpdCBCb2xkLnR0Zg==.png : cannot identify image file 'notMNIST_large/D/VHJhbnNpdCBCb2xkLnR0Zg==.png' - it's ok, skipping.\n",
      "Full dataset tensor: (52911, 28, 28)\n",
      "Mean: -0.0573678\n",
      "Standard deviation: 0.455648\n",
      "Pickling notMNIST_large/E.pickle.\n",
      "notMNIST_large/E\n",
      "Full dataset tensor: (52912, 28, 28)\n",
      "Mean: -0.069899\n",
      "Standard deviation: 0.452942\n",
      "Pickling notMNIST_large/F.pickle.\n",
      "notMNIST_large/F\n",
      "Full dataset tensor: (52912, 28, 28)\n",
      "Mean: -0.125583\n",
      "Standard deviation: 0.44709\n",
      "Pickling notMNIST_large/G.pickle.\n",
      "notMNIST_large/G\n",
      "Full dataset tensor: (52912, 28, 28)\n",
      "Mean: -0.0945814\n",
      "Standard deviation: 0.44624\n",
      "Pickling notMNIST_large/H.pickle.\n",
      "notMNIST_large/H\n",
      "Full dataset tensor: (52912, 28, 28)\n",
      "Mean: -0.0685221\n",
      "Standard deviation: 0.454232\n",
      "Pickling notMNIST_large/I.pickle.\n",
      "notMNIST_large/I\n",
      "Full dataset tensor: (52912, 28, 28)\n",
      "Mean: 0.0307862\n",
      "Standard deviation: 0.468899\n",
      "Pickling notMNIST_large/J.pickle.\n",
      "notMNIST_large/J\n",
      "Full dataset tensor: (52911, 28, 28)\n",
      "Mean: -0.153358\n",
      "Standard deviation: 0.443656\n",
      "Pickling notMNIST_small/A.pickle.\n",
      "notMNIST_small/A\n",
      "Could not read: notMNIST_small/A/RGVtb2NyYXRpY2FCb2xkT2xkc3R5bGUgQm9sZC50dGY=.png : cannot identify image file 'notMNIST_small/A/RGVtb2NyYXRpY2FCb2xkT2xkc3R5bGUgQm9sZC50dGY=.png' - it's ok, skipping.\n",
      "Full dataset tensor: (1872, 28, 28)\n",
      "Mean: -0.132626\n",
      "Standard deviation: 0.445128\n",
      "Pickling notMNIST_small/B.pickle.\n",
      "notMNIST_small/B\n",
      "Full dataset tensor: (1873, 28, 28)\n",
      "Mean: 0.00535609\n",
      "Standard deviation: 0.457115\n",
      "Pickling notMNIST_small/C.pickle.\n",
      "notMNIST_small/C\n",
      "Full dataset tensor: (1873, 28, 28)\n",
      "Mean: -0.141521\n",
      "Standard deviation: 0.44269\n",
      "Pickling notMNIST_small/D.pickle.\n",
      "notMNIST_small/D\n",
      "Full dataset tensor: (1873, 28, 28)\n",
      "Mean: -0.0492167\n",
      "Standard deviation: 0.459759\n",
      "Pickling notMNIST_small/E.pickle.\n",
      "notMNIST_small/E\n",
      "Full dataset tensor: (1873, 28, 28)\n",
      "Mean: -0.0599148\n",
      "Standard deviation: 0.45735\n",
      "Pickling notMNIST_small/F.pickle.\n",
      "notMNIST_small/F\n",
      "Could not read: notMNIST_small/F/Q3Jvc3NvdmVyIEJvbGRPYmxpcXVlLnR0Zg==.png : cannot identify image file 'notMNIST_small/F/Q3Jvc3NvdmVyIEJvbGRPYmxpcXVlLnR0Zg==.png' - it's ok, skipping.\n",
      "Full dataset tensor: (1872, 28, 28)\n",
      "Mean: -0.118185\n",
      "Standard deviation: 0.452279\n",
      "Pickling notMNIST_small/G.pickle.\n",
      "notMNIST_small/G\n",
      "Full dataset tensor: (1872, 28, 28)\n",
      "Mean: -0.0925503\n",
      "Standard deviation: 0.449006\n",
      "Pickling notMNIST_small/H.pickle.\n",
      "notMNIST_small/H\n",
      "Full dataset tensor: (1872, 28, 28)\n",
      "Mean: -0.0586893\n",
      "Standard deviation: 0.458759\n",
      "Pickling notMNIST_small/I.pickle.\n",
      "notMNIST_small/I\n",
      "Full dataset tensor: (1872, 28, 28)\n",
      "Mean: 0.0526451\n",
      "Standard deviation: 0.471894\n",
      "Pickling notMNIST_small/J.pickle.\n",
      "notMNIST_small/J\n",
      "Full dataset tensor: (1872, 28, 28)\n",
      "Mean: -0.151689\n",
      "Standard deviation: 0.448014\n"
     ]
    }
   ],
   "source": [
    "image_size = 28  # Pixel width and height.\n",
    "pixel_depth = 255.0  # Number of levels per pixel.\n",
    "\n",
    "def load_letter(folder, min_num_images):\n",
    "  \"\"\"Load the data for a single letter label.\"\"\"\n",
    "  image_files = os.listdir(folder)\n",
    "  dataset = np.ndarray(shape=(len(image_files), image_size, image_size),\n",
    "                         dtype=np.float32)\n",
    "  image_index = 0\n",
    "  print(folder)\n",
    "  for image in os.listdir(folder):\n",
    "    image_file = os.path.join(folder, image)\n",
    "    try:\n",
    "      image_data = (ndimage.imread(image_file).astype(float) - \n",
    "                    pixel_depth / 2) / pixel_depth\n",
    "      if image_data.shape != (image_size, image_size):\n",
    "        raise Exception('Unexpected image shape: %s' % str(image_data.shape))\n",
    "      dataset[image_index, :, :] = image_data\n",
    "      image_index += 1\n",
    "    except IOError as e:\n",
    "      print('Could not read:', image_file, ':', e, '- it\\'s ok, skipping.')\n",
    "    \n",
    "  num_images = image_index\n",
    "  dataset = dataset[0:num_images, :, :]\n",
    "  if num_images < min_num_images:\n",
    "    raise Exception('Many fewer images than expected: %d < %d' %\n",
    "                    (num_images, min_num_images))\n",
    "    \n",
    "  print('Full dataset tensor:', dataset.shape)\n",
    "  print('Mean:', np.mean(dataset))\n",
    "  print('Standard deviation:', np.std(dataset))\n",
    "  return dataset\n",
    "        \n",
    "def maybe_pickle(data_folders, min_num_images_per_class, force=False):\n",
    "  dataset_names = []\n",
    "  for folder in data_folders:\n",
    "    set_filename = folder + '.pickle'\n",
    "    dataset_names.append(set_filename)\n",
    "    if os.path.exists(set_filename) and not force:\n",
    "      # You may override by setting force=True.\n",
    "      print('%s already present - Skipping pickling.' % set_filename)\n",
    "    else:\n",
    "      print('Pickling %s.' % set_filename)\n",
    "      dataset = load_letter(folder, min_num_images_per_class)\n",
    "      try:\n",
    "        with open(set_filename, 'wb') as f:\n",
    "          pickle.dump(dataset, f, pickle.HIGHEST_PROTOCOL)\n",
    "      except Exception as e:\n",
    "        print('Unable to save data to', set_filename, ':', e)\n",
    "  \n",
    "  return dataset_names\n",
    "\n",
    "train_datasets = maybe_pickle(train_folders, 45000)\n",
    "test_datasets = maybe_pickle(test_folders, 1800)"
   ]
  },
  {
   "cell_type": "markdown",
   "metadata": {
    "colab_type": "text",
    "id": "vUdbskYE2d87"
   },
   "source": [
    "---\n",
    "Problem 2\n",
    "---------\n",
    "\n",
    "Let's verify that the data still looks good. Displaying a sample of the labels and images from the ndarray. Hint: you can use matplotlib.pyplot.\n",
    "\n",
    "---"
   ]
  },
  {
   "cell_type": "code",
   "execution_count": 44,
   "metadata": {
    "collapsed": false
   },
   "outputs": [
    {
     "data": {
      "image/png": "[encoded data removed]",
      "text/plain": [
       "<matplotlib.figure.Figure at 0x1180ba990>"
      ]
     },
     "metadata": {},
     "output_type": "display_data"
    }
   ],
   "source": [
    "\n",
    "def display_datasets_sample(datasets, num_samples=5):\n",
    "    f = plt.figure()\n",
    "    num_datasets = len(datasets)\n",
    "    count = 1\n",
    "    for ds in datasets:\n",
    "        #print(ds)\n",
    "        data = pickle.load( open( ds, \"rb\" ) )\n",
    "        num_images = data.shape[0]\n",
    "        sample_indices = random.sample(range(num_images), num_samples)\n",
    "        sample = data[sample_indices, :, :]\n",
    "        for s in sample:\n",
    "            f.add_subplot(num_datasets, num_samples, count)\n",
    "            count += 1\n",
    "            plt.axis('off')\n",
    "            plt.imshow(s,cmap='binary')\n",
    "    plt.show()\n",
    "            \n",
    "        \n",
    "display_datasets_sample(test_datasets)"
   ]
  },
  {
   "cell_type": "markdown",
   "metadata": {
    "colab_type": "text",
    "id": "cYznx5jUwzoO"
   },
   "source": [
    "---\n",
    "Problem 3\n",
    "---------\n",
    "Another check: we expect the data to be balanced across classes. Verify that.\n",
    "\n",
    "---"
   ]
  },
  {
   "cell_type": "code",
   "execution_count": 57,
   "metadata": {
    "collapsed": false
   },
   "outputs": [
    {
     "data": {
      "image/png": "[encoded data removed]",
      "text/plain": [
       "<matplotlib.figure.Figure at 0x118d37110>"
      ]
     },
     "metadata": {},
     "output_type": "display_data"
    }
   ],
   "source": [
    "def verify_balanced(datasets):\n",
    "    counts = []\n",
    "    labels = []\n",
    "    for ds in datasets:\n",
    "        data = pickle.load( open( ds, \"rb\" ) )\n",
    "        num_images = data.shape[0]\n",
    "        counts += [num_images]\n",
    "        labels += [os.path.splitext(os.path.basename(ds))[0]]\n",
    "    \n",
    "    y_pos = np.arange(len(counts))\n",
    "\n",
    "    plt.bar(y_pos, counts, align='center', alpha=0.5)\n",
    "    plt.xticks(y_pos, labels)\n",
    "    plt.show()\n",
    "    \n",
    "#verify_balanced(test_datasets)\n",
    "verify_balanced(train_datasets)"
   ]
  },
  {
   "cell_type": "markdown",
   "metadata": {
    "colab_type": "text",
    "id": "LA7M7K22ynCt"
   },
   "source": [
    "Merge and prune the training data as needed. Depending on your computer setup, you might not be able to fit it all in memory, and you can tune `train_size` as needed. The labels will be stored into a separate array of integers 0 through 9.\n",
    "\n",
    "Also create a validation dataset for hyperparameter tuning."
   ]
  },
  {
   "cell_type": "code",
   "execution_count": 58,
   "metadata": {
    "cellView": "both",
    "colab": {
     "autoexec": {
      "startup": false,
      "wait_interval": 0
     },
     "output_extras": [
      {
       "item_id": 1
      }
     ]
    },
    "colab_type": "code",
    "collapsed": false,
    "executionInfo": {
     "elapsed": 411281,
     "status": "ok",
     "timestamp": 1444485897869,
     "user": {
      "color": "#1FA15D",
      "displayName": "Vincent Vanhoucke",
      "isAnonymous": false,
      "isMe": true,
      "permissionId": "05076109866853157986",
      "photoUrl": "//lh6.googleusercontent.com/-cCJa7dTDcgQ/AAAAAAAAAAI/AAAAAAAACgw/r2EZ_8oYer4/s50-c-k-no/photo.jpg",
      "sessionId": "2a0a5e044bb03b66",
      "userId": "102167687554210253930"
     },
     "user_tz": 420
    },
    "id": "s3mWgZLpyuzq",
    "outputId": "8af66da6-902d-4719-bedc-7c9fb7ae7948"
   },
   "outputs": [
    {
     "name": "stdout",
     "output_type": "stream",
     "text": [
      "529114\n",
      "18724\n",
      "Training: (200000, 28, 28) (200000,)\n",
      "Validation: (10000, 28, 28) (10000,)\n",
      "Testing: (10000, 28, 28) (10000,)\n"
     ]
    }
   ],
   "source": [
    "def make_arrays(nb_rows, img_size):\n",
    "  if nb_rows:\n",
    "    dataset = np.ndarray((nb_rows, img_size, img_size), dtype=np.float32)\n",
    "    labels = np.ndarray(nb_rows, dtype=np.int32)\n",
    "  else:\n",
    "    dataset, labels = None, None\n",
    "  return dataset, labels\n",
    "\n",
    "def merge_datasets(pickle_files, train_size, valid_size=0):\n",
    "  num_classes = len(pickle_files)\n",
    "  valid_dataset, valid_labels = make_arrays(valid_size, image_size)\n",
    "  train_dataset, train_labels = make_arrays(train_size, image_size)\n",
    "  vsize_per_class = valid_size // num_classes\n",
    "  tsize_per_class = train_size // num_classes\n",
    "    \n",
    "  start_v, start_t = 0, 0\n",
    "  end_v, end_t = vsize_per_class, tsize_per_class\n",
    "  end_l = vsize_per_class+tsize_per_class\n",
    "  all_data = 0\n",
    "  for label, pickle_file in enumerate(pickle_files):       \n",
    "    try:\n",
    "      with open(pickle_file, 'rb') as f:\n",
    "        letter_set = pickle.load(f)\n",
    "        all_data += len(letter_set)\n",
    "        # let's shuffle the letters to have random validation and training set\n",
    "        np.random.shuffle(letter_set)\n",
    "        if valid_dataset is not None:\n",
    "          valid_letter = letter_set[:vsize_per_class, :, :]\n",
    "          valid_dataset[start_v:end_v, :, :] = valid_letter\n",
    "          valid_labels[start_v:end_v] = label\n",
    "          start_v += vsize_per_class\n",
    "          end_v += vsize_per_class\n",
    "                    \n",
    "        train_letter = letter_set[vsize_per_class:end_l, :, :]\n",
    "        train_dataset[start_t:end_t, :, :] = train_letter\n",
    "        train_labels[start_t:end_t] = label\n",
    "        start_t += tsize_per_class\n",
    "        end_t += tsize_per_class\n",
    "    except Exception as e:\n",
    "      print('Unable to process data from', pickle_file, ':', e)\n",
    "      raise\n",
    "\n",
    "  print(all_data)\n",
    "  return valid_dataset, valid_labels, train_dataset, train_labels\n",
    "            \n",
    "            \n",
    "train_size = 200000\n",
    "valid_size = 10000\n",
    "test_size = 10000\n",
    "\n",
    "valid_dataset, valid_labels, train_dataset, train_labels = merge_datasets(\n",
    "  train_datasets, train_size, valid_size)\n",
    "_, _, test_dataset, test_labels = merge_datasets(test_datasets, test_size)\n",
    "\n",
    "print('Training:', train_dataset.shape, train_labels.shape)\n",
    "print('Validation:', valid_dataset.shape, valid_labels.shape)\n",
    "print('Testing:', test_dataset.shape, test_labels.shape)"
   ]
  },
  {
   "cell_type": "markdown",
   "metadata": {
    "colab_type": "text",
    "id": "GPTCnjIcyuKN"
   },
   "source": [
    "Next, we'll randomize the data. It's important to have the labels well shuffled for the training and test distributions to match."
   ]
  },
  {
   "cell_type": "code",
   "execution_count": 59,
   "metadata": {
    "cellView": "both",
    "colab": {
     "autoexec": {
      "startup": false,
      "wait_interval": 0
     }
    },
    "colab_type": "code",
    "collapsed": true,
    "id": "6WZ2l2tN2zOL"
   },
   "outputs": [],
   "source": [
    "def randomize(dataset, labels):\n",
    "  permutation = np.random.permutation(labels.shape[0])\n",
    "  shuffled_dataset = dataset[permutation,:,:]\n",
    "  shuffled_labels = labels[permutation]\n",
    "  return shuffled_dataset, shuffled_labels\n",
    "train_dataset, train_labels = randomize(train_dataset, train_labels)\n",
    "test_dataset, test_labels = randomize(test_dataset, test_labels)\n",
    "valid_dataset, valid_labels = randomize(valid_dataset, valid_labels)"
   ]
  },
  {
   "cell_type": "markdown",
   "metadata": {
    "colab_type": "text",
    "id": "puDUTe6t6USl"
   },
   "source": [
    "---\n",
    "Problem 4\n",
    "---------\n",
    "Convince yourself that the data is still good after shuffling!\n",
    "\n",
    "---"
   ]
  },
  {
   "cell_type": "code",
   "execution_count": 92,
   "metadata": {
    "collapsed": false
   },
   "outputs": [
    {
     "name": "stdout",
     "output_type": "stream",
     "text": [
      "(200000, 28, 28)\n"
     ]
    },
    {
     "data": {
      "image/png": "[encoded data removed]",
      "text/plain": [
       "<matplotlib.figure.Figure at 0x1180f4e50>"
      ]
     },
     "metadata": {},
     "output_type": "display_data"
    },
    {
     "name": "stdout",
     "output_type": "stream",
     "text": [
      "(10000, 28, 28)\n"
     ]
    },
    {
     "data": {
      "image/png": "[encoded data removed]",
      "text/plain": [
       "<matplotlib.figure.Figure at 0x1186d9450>"
      ]
     },
     "metadata": {},
     "output_type": "display_data"
    },
    {
     "name": "stdout",
     "output_type": "stream",
     "text": [
      "(10000, 28, 28)\n"
     ]
    },
    {
     "data": {
      "image/png": "[encoded data removed]",
      "text/plain": [
       "<matplotlib.figure.Figure at 0x119ac4cd0>"
      ]
     },
     "metadata": {},
     "output_type": "display_data"
    }
   ],
   "source": [
    "def check_data(dataset, labels):\n",
    "    print(dataset.shape)\n",
    "    labelCounts = dict()\n",
    "    for l in labels:\n",
    "        if l in labelCounts:\n",
    "            labelCounts[l] += 1\n",
    "        else:\n",
    "            labelCounts[l] = 1\n",
    "    \n",
    "    counts = []\n",
    "    ticks = []\n",
    "    for l in labelCounts:\n",
    "        counts += [labelCounts[l]]\n",
    "        ticks += [l]\n",
    "\n",
    "    y_pos = np.arange(len(counts))\n",
    "    plt.bar(y_pos, counts, align='center', alpha=0.5)\n",
    "    plt.xticks(y_pos, ticks)\n",
    "    plt.show()\n",
    "    \n",
    "check_data(train_dataset, train_labels)\n",
    "check_data(test_dataset, test_labels)\n",
    "check_data(valid_dataset, valid_labels)"
   ]
  },
  {
   "cell_type": "markdown",
   "metadata": {
    "colab_type": "text",
    "id": "tIQJaJuwg5Hw"
   },
   "source": [
    "Finally, let's save the data for later reuse:"
   ]
  },
  {
   "cell_type": "code",
   "execution_count": 66,
   "metadata": {
    "cellView": "both",
    "colab": {
     "autoexec": {
      "startup": false,
      "wait_interval": 0
     }
    },
    "colab_type": "code",
    "collapsed": true,
    "id": "QiR_rETzem6C"
   },
   "outputs": [],
   "source": [
    "pickle_file = 'notMNIST.pickle'\n",
    "\n",
    "try:\n",
    "  f = open(pickle_file, 'wb')\n",
    "  save = {\n",
    "    'train_dataset': train_dataset,\n",
    "    'train_labels': train_labels,\n",
    "    'valid_dataset': valid_dataset,\n",
    "    'valid_labels': valid_labels,\n",
    "    'test_dataset': test_dataset,\n",
    "    'test_labels': test_labels,\n",
    "    }\n",
    "  pickle.dump(save, f, pickle.HIGHEST_PROTOCOL)\n",
    "  f.close()\n",
    "except Exception as e:\n",
    "  print('Unable to save data to', pickle_file, ':', e)\n",
    "  raise"
   ]
  },
  {
   "cell_type": "code",
   "execution_count": 67,
   "metadata": {
    "cellView": "both",
    "colab": {
     "autoexec": {
      "startup": false,
      "wait_interval": 0
     },
     "output_extras": [
      {
       "item_id": 1
      }
     ]
    },
    "colab_type": "code",
    "collapsed": false,
    "executionInfo": {
     "elapsed": 413065,
     "status": "ok",
     "timestamp": 1444485899688,
     "user": {
      "color": "#1FA15D",
      "displayName": "Vincent Vanhoucke",
      "isAnonymous": false,
      "isMe": true,
      "permissionId": "05076109866853157986",
      "photoUrl": "//lh6.googleusercontent.com/-cCJa7dTDcgQ/AAAAAAAAAAI/AAAAAAAACgw/r2EZ_8oYer4/s50-c-k-no/photo.jpg",
      "sessionId": "2a0a5e044bb03b66",
      "userId": "102167687554210253930"
     },
     "user_tz": 420
    },
    "id": "hQbLjrW_iT39",
    "outputId": "b440efc6-5ee1-4cbc-d02d-93db44ebd956"
   },
   "outputs": [
    {
     "name": "stdout",
     "output_type": "stream",
     "text": [
      "Compressed pickle size: 690800441\n"
     ]
    }
   ],
   "source": [
    "statinfo = os.stat(pickle_file)\n",
    "print('Compressed pickle size:', statinfo.st_size)"
   ]
  },
  {
   "cell_type": "code",
   "execution_count": 2,
   "metadata": {
    "collapsed": true
   },
   "outputs": [],
   "source": [
    "#For reloading the values if needed in a later run\n",
    "pickle_file = 'notMNIST.pickle'\n",
    "f = open(pickle_file, 'rb')\n",
    "data = pickle.load(f)\n",
    "train_dataset = data['train_dataset']\n",
    "train_labels = data['train_labels']\n",
    "test_dataset = data['test_dataset']\n",
    "test_labels = data['test_labels']\n",
    "f.close()"
   ]
  },
  {
   "cell_type": "markdown",
   "metadata": {
    "colab_type": "text",
    "id": "gE_cRAQB33lk"
   },
   "source": [
    "---\n",
    "Problem 5\n",
    "---------\n",
    "\n",
    "By construction, this dataset might contain a lot of overlapping samples, including training data that's also contained in the validation and test set! Overlap between training and test can skew the results if you expect to use your model in an environment where there is never an overlap, but are actually ok if you expect to see training samples recur when you use it.\n",
    "Measure how much overlap there is between training, validation and test samples.\n",
    "\n",
    "Optional questions:\n",
    "- What about near duplicates between datasets? (images that are almost identical)\n",
    "- Create a sanitized validation and test set, and compare your accuracy on those in subsequent assignments.\n",
    "---"
   ]
  },
  {
   "cell_type": "code",
   "execution_count": 91,
   "metadata": {
    "collapsed": false
   },
   "outputs": [
    {
     "name": "stdout",
     "output_type": "stream",
     "text": [
      "1324 overlap. This is 0.662000%(1324 out of 200000) of dataset1 and 13.240000%(1324 out of 10000) of dataset2\n",
      "1067 overlap. This is 0.533500%(1067 out of 200000) of dataset1 and 10.670000%(1067 out of 10000) of dataset2\n",
      "200 overlap. This is 2.000000%(200 out of 10000) of dataset1 and 2.000000%(200 out of 10000) of dataset2\n",
      "Cleaned test set\n",
      "(8639,)\n",
      "(8639, 28, 28)\n"
     ]
    },
    {
     "data": {
      "image/png": "[encoded data removed]",
      "text/plain": [
       "<matplotlib.figure.Figure at 0x11b011b10>"
      ]
     },
     "metadata": {},
     "output_type": "display_data"
    },
    {
     "name": "stdout",
     "output_type": "stream",
     "text": [
      "Cleaned validation set\n",
      "(8933,)\n",
      "(8933, 28, 28)\n"
     ]
    },
    {
     "data": {
      "image/png": "[encoded data removed]",
      "text/plain": [
       "<matplotlib.figure.Figure at 0x112a28410>"
      ]
     },
     "metadata": {},
     "output_type": "display_data"
    }
   ],
   "source": [
    "import hashlib\n",
    "\n",
    "#Here a copy of ds2 will be sanitized\n",
    "def checkOverlap(ds1, ds1_labels, ds2, ds2_labels):\n",
    "    numSamples = ds2.shape[0]\n",
    "    numReferences = ds1.shape[0]\n",
    "    validIndices = []\n",
    "    overlapCount = 0\n",
    "    for i in range(numSamples):\n",
    "        if i % 1000 == 0:\n",
    "            print('Processing %d of %d samples' % (i, numSamples))\n",
    "            sys.stdout.flush()\n",
    "        sample = ds2[i,:,:]\n",
    "        label = ds2_labels[i]\n",
    "\n",
    "        if sampleExists(ds1, ds1_labels, sample, label):\n",
    "            overlapCount += 1\n",
    "        else:\n",
    "            validIndices += [i]\n",
    "    print('%d overlap. This is %f%%(%d out of %d) of dataset1 and %f%%(%d out of %d) of dataset2' % (overlapCount, overlapCount*100.0/numReferences, overlapCount, numReferences, overlapCount*100.0/numSamples, overlapCount, numSamples))\n",
    "    sanitized_dataset = ds2[validIndices, :, :]\n",
    "    sanitized_labels = ds2_labels[validIndices]\n",
    "    return sanitized_dataset, sanitized_labels\n",
    "\n",
    "def sampleExists(refDataset, refLabels, sample, label):\n",
    "    validRefIndices = np.where(refLabels == label)[0]\n",
    "    for idx in validRefIndices:\n",
    "        if np.array_equal(sample, refDataset[idx,:,:]):\n",
    "            return True\n",
    "    return False\n",
    "\n",
    "#This will return a boolean mask of overlapped indices in ds2\n",
    "def checkOverlap_fast(ds1, ds2):\n",
    "    numSamples = ds2.shape[0]\n",
    "    numReferences = ds1.shape[0]\n",
    "    \n",
    "    ds1_hash = [hashlib.sha1(x).digest() for x in ds1]\n",
    "    ds2_hash = [hashlib.sha1(x).digest() for x in ds2]\n",
    "    \n",
    "    overlap_samples = np.in1d(ds2_hash, ds1_hash)\n",
    "    overlapCount = overlap_samples.sum()\n",
    "    print('%d overlap. This is %f%%(%d out of %d) of dataset1 and %f%%(%d out of %d) of dataset2' % (overlapCount, overlapCount*100.0/numReferences, overlapCount, numReferences, overlapCount*100.0/numSamples, overlapCount, numSamples))\n",
    "    \n",
    "    return overlap_samples\n",
    "\n",
    "test_overlapwith_train = checkOverlap_fast(train_dataset, test_dataset)\n",
    "val_overlapwith_train = checkOverlap_fast(train_dataset, valid_dataset)\n",
    "test_overlapwith_val = checkOverlap_fast(valid_dataset, test_dataset)\n",
    "\n",
    "clean_val_idx = ~val_overlapwith_train\n",
    "clean_test_idx = ~(test_overlapwith_train | test_overlapwith_val)\n",
    "\n",
    "clean_test_dataset = test_dataset[clean_test_idx]\n",
    "clean_test_labels = test_labels[clean_test_idx]\n",
    "\n",
    "clean_valid_dataset = valid_dataset[clean_val_idx]\n",
    "clean_valid_labels = valid_labels[clean_val_idx]\n",
    "\n",
    "print('Cleaned test set')\n",
    "print(clean_test_labels.shape)\n",
    "check_data(clean_test_dataset, clean_test_labels)\n",
    "\n",
    "print('Cleaned validation set')\n",
    "print(clean_valid_labels.shape)\n",
    "check_data(clean_valid_dataset, clean_valid_labels)\n",
    "\n",
    "#sanitized_test_dataset, sanitized_test_labels = checkOverlap(train_dataset, train_labels, test_dataset, test_labels)"
   ]
  },
  {
   "cell_type": "code",
   "execution_count": 93,
   "metadata": {
    "collapsed": false
   },
   "outputs": [
    {
     "name": "stdout",
     "output_type": "stream",
     "text": [
      "Compressed pickle size: 55176442\n"
     ]
    }
   ],
   "source": [
    "#Serialize for future use\n",
    "pickle_clean_file = 'notMNIST_cleanTestValidation.pickle'\n",
    "\n",
    "try:\n",
    "  f = open(pickle_clean_file, 'wb')\n",
    "  data = {\n",
    "    'clean_valid_dataset': clean_valid_dataset,\n",
    "    'clean_valid_labels': clean_valid_labels,\n",
    "    'clean_test_dataset': clean_test_dataset,\n",
    "    'clean_test_labels': clean_test_labels,\n",
    "    }\n",
    "  pickle.dump(data, f, pickle.HIGHEST_PROTOCOL)\n",
    "  f.close()\n",
    "except Exception as e:\n",
    "  print('Unable to save data to', pickle_clean_file, ':', e)\n",
    "  raise\n",
    "\n",
    "statinfo = os.stat(pickle_clean_file)\n",
    "print('Compressed pickle size:', statinfo.st_size)"
   ]
  },
  {
   "cell_type": "markdown",
   "metadata": {
    "colab_type": "text",
    "id": "L8oww1s4JMQx"
   },
   "source": [
    "---\n",
    "Problem 6\n",
    "---------\n",
    "\n",
    "Let's get an idea of what an off-the-shelf classifier can give you on this data. It's always good to check that there is something to learn, and that it's a problem that is not so trivial that a canned solution solves it.\n",
    "\n",
    "Train a simple model on this data using 50, 100, 1000 and 5000 training samples. Hint: you can use the LogisticRegression model from sklearn.linear_model.\n",
    "\n",
    "Optional question: train an off-the-shelf model on all the data!\n",
    "\n",
    "---"
   ]
  },
  {
   "cell_type": "code",
   "execution_count": 10,
   "metadata": {
    "collapsed": false
   },
   "outputs": [
    {
     "name": "stdout",
     "output_type": "stream",
     "text": [
      "num_samples : 50\n",
      "train accuracy : 100.000000 \n",
      "test accuracy : 48.490000 \n",
      "num_samples : 100\n",
      "train accuracy : 100.000000 \n",
      "test accuracy : 71.360000 \n",
      "num_samples : 1000\n",
      "train accuracy : 100.000000 \n",
      "test accuracy : 84.250000 \n",
      "num_samples : 5000\n",
      "train accuracy : 97.360000 \n",
      "test accuracy : 84.380000 \n",
      "num_samples : 10000\n",
      "train accuracy : 92.090000 \n",
      "test accuracy : 85.310000 \n",
      "num_samples : 20000\n",
      "train accuracy : 87.430000 \n",
      "test accuracy : 87.520000 \n"
     ]
    },
    {
     "data": {
      "image/png": "[encoded data removed]",
      "text/plain": [
       "<matplotlib.figure.Figure at 0x1144d60d0>"
      ]
     },
     "metadata": {},
     "output_type": "display_data"
    }
   ],
   "source": [
    "numSampleList = [50,100,1000,5000,10000,20000]\n",
    "trainAccList = []\n",
    "testAccList = []\n",
    "\n",
    "classifier = LogisticRegression(solver = 'lbfgs', multi_class = 'multinomial')\n",
    "(samples, width, height) = train_dataset.shape\n",
    "test_samples = test_dataset.shape[0]\n",
    "X_test = np.reshape(test_dataset, (test_samples, width*height))\n",
    "y_test = test_labels\n",
    "\n",
    "for num_samples in numSampleList:\n",
    "    print(\"num_samples : %d\" % (num_samples))\n",
    "    X = np.reshape(train_dataset,(samples, width*height))[0:num_samples]\n",
    "    y = train_labels[0:num_samples]\n",
    "\n",
    "    classifier.fit(X, y)\n",
    "    \n",
    "    y_pred = classifier.predict(X)\n",
    "    acc = np.mean(y_pred == y) * 100\n",
    "    trainAccList += [acc]\n",
    "    print(\"train accuracy : %f \" % (acc))\n",
    "\n",
    "    y_test_pred = classifier.predict(X_test)\n",
    "    acc_test = np.mean(y_test_pred == y_test) * 100\n",
    "    testAccList += [acc_test]\n",
    "    print(\"test accuracy : %f \" % (acc_test))\n",
    "    \n",
    "plt.xlabel('#Train samples')\n",
    "plt.ylabel('Accuracy')\n",
    "plt.plot(numSampleList, trainAccList, 'go-', numSampleList, testAccList, 'ro-')\n",
    "plt.show()"
   ]
  }
 ],
 "metadata": {
  "colab": {
   "default_view": {},
   "name": "1_notmnist.ipynb",
   "provenance": [],
   "version": "0.3.2",
   "views": {}
  },
  "kernelspec": {
   "display_name": "Python 2",
   "language": "python",
   "name": "python2"
  },
  "language_info": {
   "codemirror_mode": {
    "name": "ipython",
    "version": 2
   },
   "file_extension": ".py",
   "mimetype": "text/x-python",
   "name": "python",
   "nbconvert_exporter": "python",
   "pygments_lexer": "ipython2",
   "version": "2.7.11"
  }
 },
 "nbformat": 4,
 "nbformat_minor": 0
}
